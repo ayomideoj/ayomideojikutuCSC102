{
 "cells": [
  {
   "cell_type": "markdown",
   "id": "fb2f4d13",
   "metadata": {},
   "source": [
    "# PROJECT 1"
   ]
  },
  {
   "cell_type": "code",
   "execution_count": 5,
   "id": "ab725e28",
   "metadata": {},
   "outputs": [
    {
     "name": "stdout",
     "output_type": "stream",
     "text": [
      "What is the weight of the items?15\n",
      "What is your location?EPE\n",
      "The price is N5000\n"
     ]
    }
   ],
   "source": [
    "class Delivery:\n",
    "    def __init__(self,location,weight):\n",
    "        self.location=location\n",
    "        self.weight=weight\n",
    "    def checklocation(self,location,weight):\n",
    "        if self.weight>=10 and self.location==\"PAU\":\n",
    "            print(\"The price is N2000\")\n",
    "        elif self.weight<10 and self.location==\"PAU\":\n",
    "            print(\"The price is N1500\")\n",
    "        elif self.weight>=10 and self.location==\"EPE\":\n",
    "            print(\"The price is N5000\")\n",
    "        elif self.weight<10 and self.location==\"EPE\":\n",
    "            print(\"The price is N4000\")\n",
    "        else:\n",
    "            print(\"We do not deliver to this location\")\n",
    "            \n",
    "weightask=float(input(\"What is the weight of the items?\"))\n",
    "locationask=str(input(\"What is your location?\"))\n",
    "customer=Delivery(locationask,weightask)\n",
    "customer.checklocation(locationask,weightask)"
   ]
  },
  {
   "cell_type": "markdown",
   "id": "cf905ff6",
   "metadata": {},
   "source": [
    "# PROJECT 2"
   ]
  },
  {
   "cell_type": "code",
   "execution_count": 6,
   "id": "55d2eb1b",
   "metadata": {},
   "outputs": [
    {
     "name": "stdout",
     "output_type": "stream",
     "text": [
      "Please enter your name:Mary Evans\n"
     ]
    },
    {
     "ename": "AttributeError",
     "evalue": "'Employee' object has no attribute 'check_employee'",
     "output_type": "error",
     "traceback": [
      "\u001b[1;31m---------------------------------------------------------------------------\u001b[0m",
      "\u001b[1;31mAttributeError\u001b[0m                            Traceback (most recent call last)",
      "\u001b[1;32mC:\\Users\\AYOMID~1\\AppData\\Local\\Temp/ipykernel_18476/973745572.py\u001b[0m in \u001b[0;36m<module>\u001b[1;34m\u001b[0m\n\u001b[0;32m     27\u001b[0m \u001b[0mnameinput\u001b[0m\u001b[1;33m=\u001b[0m\u001b[0minput\u001b[0m\u001b[1;33m(\u001b[0m\u001b[1;34m\"Please enter your name:\"\u001b[0m\u001b[1;33m)\u001b[0m\u001b[1;33m\u001b[0m\u001b[1;33m\u001b[0m\u001b[0m\n\u001b[0;32m     28\u001b[0m \u001b[0mobject1\u001b[0m\u001b[1;33m=\u001b[0m\u001b[0mEmployee\u001b[0m\u001b[1;33m(\u001b[0m\u001b[0mnameinput\u001b[0m\u001b[1;33m)\u001b[0m\u001b[1;33m\u001b[0m\u001b[1;33m\u001b[0m\u001b[0m\n\u001b[1;32m---> 29\u001b[1;33m \u001b[0mobject1\u001b[0m\u001b[1;33m.\u001b[0m\u001b[0mcheck_employee\u001b[0m\u001b[1;33m(\u001b[0m\u001b[0mnameinput\u001b[0m\u001b[1;33m)\u001b[0m\u001b[1;33m\u001b[0m\u001b[1;33m\u001b[0m\u001b[0m\n\u001b[0m\u001b[0;32m     30\u001b[0m \u001b[0mobject1\u001b[0m\u001b[1;33m.\u001b[0m\u001b[0mtake_attendance\u001b[0m\u001b[1;33m(\u001b[0m\u001b[1;33m)\u001b[0m\u001b[1;33m\u001b[0m\u001b[1;33m\u001b[0m\u001b[0m\n\u001b[0;32m     31\u001b[0m \u001b[0mobject1\u001b[0m\u001b[1;33m.\u001b[0m\u001b[0massign_task\u001b[0m\u001b[1;33m(\u001b[0m\u001b[1;33m)\u001b[0m\u001b[1;33m\u001b[0m\u001b[1;33m\u001b[0m\u001b[0m\n",
      "\u001b[1;31mAttributeError\u001b[0m: 'Employee' object has no attribute 'check_employee'"
     ]
    }
   ],
   "source": [
    "import random\n",
    "presentemplyees=[]\n",
    "employeelist=[\"Mary Evans\", \"Eyo Ishan\", \"Durojaiye Dare\", \"Adams Ali\", \"Andrew Ugwu\", \"Stella Mankinde\", \"Jane Akibo\", \"Ago James\", \"Michell Taiwo\", \"Abraham Jones\" , \"Nicole Anide\", \"Kosi Korso\", \"Adele Martins\", \"Emmanuel Ojo\", \"Ajayi Fatima\"]\n",
    "task=[ \"Loading\", \"Transporting\", \"Reveiwing Orders\", \"Customer Service\", \"Delivering Items\"]\n",
    "class Employee:\n",
    "    \n",
    "    def __init__(self,name):\n",
    "        self.name=name\n",
    "        \n",
    "    def check__employee(self,name):\n",
    "        if self.name in employeelist:\n",
    "            print(\"You are welcome\",self.name)\n",
    "            \n",
    "    def take_attendance(self):\n",
    "        if self.name in employeelist:\n",
    "            presentemployees.append(self.name)\n",
    "            print(presentemployees)\n",
    "    def assign_take(self):\n",
    "        if self.name in employeelist:\n",
    "            print(\"Your task is\",random.choice(take),\"\",self.name)\n",
    "    def refuse_access(self):\n",
    "        if self.name in employeelist:\n",
    "            pass\n",
    "        else:\n",
    "            print(\"You are not employed here\")\n",
    "            \n",
    "nameinput=input(\"Please enter your name:\")\n",
    "object1=Employee(nameinput)\n",
    "object1.check_employee(nameinput)\n",
    "object1.take_attendance()\n",
    "object1.assign_task()"
   ]
  },
  {
   "cell_type": "code",
   "execution_count": null,
   "id": "a6706c11",
   "metadata": {},
   "outputs": [],
   "source": []
  }
 ],
 "metadata": {
  "kernelspec": {
   "display_name": "Python 3 (ipykernel)",
   "language": "python",
   "name": "python3"
  },
  "language_info": {
   "codemirror_mode": {
    "name": "ipython",
    "version": 3
   },
   "file_extension": ".py",
   "mimetype": "text/x-python",
   "name": "python",
   "nbconvert_exporter": "python",
   "pygments_lexer": "ipython3",
   "version": "3.9.7"
  }
 },
 "nbformat": 4,
 "nbformat_minor": 5
}
