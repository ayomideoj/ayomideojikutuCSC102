{
 "cells": [
  {
   "cell_type": "code",
   "execution_count": 1,
   "id": "c6ba4421",
   "metadata": {},
   "outputs": [
    {
     "ename": "ModuleNotFoundError",
     "evalue": "No module named 'openyxl'",
     "output_type": "error",
     "traceback": [
      "\u001b[1;31m---------------------------------------------------------------------------\u001b[0m",
      "\u001b[1;31mModuleNotFoundError\u001b[0m                       Traceback (most recent call last)",
      "\u001b[1;32mC:\\Users\\AYOMID~1\\AppData\\Local\\Temp/ipykernel_12028/1755661357.py\u001b[0m in \u001b[0;36m<module>\u001b[1;34m\u001b[0m\n\u001b[1;32m----> 1\u001b[1;33m \u001b[1;32mfrom\u001b[0m \u001b[0mopenyxl\u001b[0m \u001b[1;32mimport\u001b[0m \u001b[0mWorkbook\u001b[0m\u001b[1;33m,\u001b[0m \u001b[0mload_workbook\u001b[0m\u001b[1;33m\u001b[0m\u001b[1;33m\u001b[0m\u001b[0m\n\u001b[0m\u001b[0;32m      2\u001b[0m \u001b[0mwb\u001b[0m \u001b[1;33m=\u001b[0m \u001b[0mWorkbook\u001b[0m\u001b[1;33m(\u001b[0m\u001b[1;33m)\u001b[0m\u001b[1;33m\u001b[0m\u001b[1;33m\u001b[0m\u001b[0m\n\u001b[0;32m      3\u001b[0m \u001b[0mws\u001b[0m \u001b[1;33m=\u001b[0m \u001b[0mwb\u001b[0m\u001b[1;33m.\u001b[0m\u001b[0mactive\u001b[0m\u001b[1;33m\u001b[0m\u001b[1;33m\u001b[0m\u001b[0m\n\u001b[0;32m      4\u001b[0m \u001b[0mws\u001b[0m\u001b[1;33m.\u001b[0m\u001b[0mtitle\u001b[0m \u001b[1;33m=\u001b[0m \u001b[1;34m\"Student_Data\"\u001b[0m\u001b[1;33m\u001b[0m\u001b[1;33m\u001b[0m\u001b[0m\n\u001b[0;32m      5\u001b[0m \u001b[0mformat\u001b[0m \u001b[1;33m=\u001b[0m \u001b[1;33m[\u001b[0m\u001b[1;34m'Name'\u001b[0m\u001b[1;33m,\u001b[0m\u001b[1;34m'Age'\u001b[0m\u001b[1;33m,\u001b[0m\u001b[1;34m'Height'\u001b[0m\u001b[1;33m,\u001b[0m\u001b[1;34m'Scores'\u001b[0m\u001b[1;33m]\u001b[0m\u001b[1;33m\u001b[0m\u001b[1;33m\u001b[0m\u001b[0m\n",
      "\u001b[1;31mModuleNotFoundError\u001b[0m: No module named 'openyxl'"
     ]
    }
   ],
   "source": [
    "from openyxl import Workbook, load_workbook\n",
    "wb = Workbook()\n",
    "ws = wb.active\n",
    "ws.title = \"Student_Data\"\n",
    "format = ['Name','Age','Height','Scores']\n",
    "\n",
    "ann = [\"Ann\",14,5.5,80]\n",
    "jane = [\"Jane\",16,6.0,85]\n",
    "joan = [\"Joan\",14,5.4,70]\n",
    "clare = [\"Clare\",17,5.9,60]\n",
    "elizabeth = [\"Elizabeth\",16,5.6,76]\n",
    "\n",
    "Girls = [ann,jane,joan,clare,elizabeth]\n",
    "\n",
    "charles = [\"Charles\",15,5.7,85]\n",
    "jude = [\"Jude\",16,5.9,74]\n",
    "james = [\"James\",16,5.8,87]\n",
    "kelvin = [\"Kelvin\",17,6.1,75]\n",
    "prosper = [\"prosper\",14,5.9,68]\n",
    "\n",
    "Boys = [charles,jude,james,kelvin,prosper]\n",
    "\n",
    "ws.append(formart)\n",
    "ws.append([\"GIRLS\"])\n",
    "for i in Girls:\n",
    "    ws.append(i)\n",
    "ws.append([\"BOYS\"])\n",
    "for i in BOYS:\n",
    "    ws.append(i)\n",
    "    \n",
    "wb.save(\"PROJECT1_EXCEL.xlsx\") "
   ]
  },
  {
   "cell_type": "code",
   "execution_count": null,
   "id": "6f5a55d6",
   "metadata": {},
   "outputs": [],
   "source": []
  }
 ],
 "metadata": {
  "kernelspec": {
   "display_name": "Python 3 (ipykernel)",
   "language": "python",
   "name": "python3"
  },
  "language_info": {
   "codemirror_mode": {
    "name": "ipython",
    "version": 3
   },
   "file_extension": ".py",
   "mimetype": "text/x-python",
   "name": "python",
   "nbconvert_exporter": "python",
   "pygments_lexer": "ipython3",
   "version": "3.9.7"
  }
 },
 "nbformat": 4,
 "nbformat_minor": 5
}
