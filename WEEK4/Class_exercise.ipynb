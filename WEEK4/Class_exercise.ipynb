{
 "cells": [
  {
   "cell_type": "markdown",
   "id": "c1851270",
   "metadata": {},
   "source": [
    "# Exercise 1"
   ]
  },
  {
   "cell_type": "code",
   "execution_count": 1,
   "id": "4b14c5fe",
   "metadata": {},
   "outputs": [
    {
     "name": "stdout",
     "output_type": "stream",
     "text": [
      "Enter a number to generate its pattern =12\n",
      "1 \n",
      "1 2 \n",
      "1 2 3 \n",
      "1 2 3 4 \n",
      "1 2 3 4 5 \n",
      "1 2 3 4 5 6 \n",
      "1 2 3 4 5 6 7 \n",
      "1 2 3 4 5 6 7 8 \n",
      "1 2 3 4 5 6 7 8 9 \n",
      "1 2 3 4 5 6 7 8 9 10 \n",
      "1 2 3 4 5 6 7 8 9 10 11 \n",
      "1 2 3 4 5 6 7 8 9 10 11 12 \n"
     ]
    }
   ],
   "source": [
    "num=int(input(\"Enter a number to generate its pattern =\"))\n",
    "for i in range(1,num + 1):\n",
    "    for j in range(1,i + 1):\n",
    "        print(j, end = \" \")\n",
    "    print()"
   ]
  },
  {
   "cell_type": "code",
   "execution_count": 2,
   "id": "c88528e2",
   "metadata": {},
   "outputs": [
    {
     "name": "stdout",
     "output_type": "stream",
     "text": [
      "2 is a prime number\n",
      "3 is a prime number\n",
      "5 is a prime number\n",
      "7 is a prime number\n",
      "11 is a prime number\n",
      "13 is a prime number\n",
      "17 is a prime number\n",
      "19 is a prime number\n",
      "23 is a prime number\n",
      "29 is a prime number\n",
      "31 is a prime number\n",
      "37 is a prime number\n",
      "41 is a prime number\n",
      "43 is a prime number\n",
      "47 is a prime number\n",
      "Bye Bye\n"
     ]
    }
   ],
   "source": [
    "#EXERCISE2\n",
    "\n",
    "num = 2\n",
    "for i in range(2,50):\n",
    "    j=2\n",
    "    while(j <= (i/2)):\n",
    "        if (i % j ==0): #factor found\n",
    "            break #break out of while loop\n",
    "        j += 1\n",
    "    if (j > i/j) : #no factor found\n",
    "        print (i, \"is a prime number\")\n",
    "print(\"Bye Bye\")\n"
   ]
  },
  {
   "cell_type": "code",
   "execution_count": 7,
   "id": "ded84d64",
   "metadata": {},
   "outputs": [
    {
     "name": "stdout",
     "output_type": "stream",
     "text": [
      "Enter a number:14\n",
      "factorial of  14 is 87178291200\n"
     ]
    }
   ],
   "source": [
    "#EXERCISE3\n",
    "\n",
    "#The following program uses a for loop nested inside an if..else\n",
    "#block to calculate the factorial of a given number\n",
    "num = int(input(\"Enter a number:\"))\n",
    "fact=1\n",
    "if num<0:\n",
    "    print(\"Sorry, factorial does not exist for negative numbers\")\n",
    "elif num == 0:\n",
    "    print(\"The factorial of 0 is 1.\")\n",
    "else:\n",
    "    for i in range(1, num + 1):\n",
    "        fact = fact * i\n",
    "    print(\"factorial of \",num, \"is\", fact)\n",
    "    "
   ]
  },
  {
   "cell_type": "code",
   "execution_count": 8,
   "id": "e76b022b",
   "metadata": {},
   "outputs": [
    {
     "name": "stdout",
     "output_type": "stream",
     "text": [
      "Enter the number to be checked:3\n",
      "3 is a prime number\n"
     ]
    }
   ],
   "source": [
    "#EXERCISE4\n",
    "\n",
    "#Write a python code to check if a number is prime or not\n",
    "num = int(input(\"Enter the number to be checked:\"))\n",
    "flag = 0\n",
    "if num>1:\n",
    "    for i in range(2, int(num / 2)):\n",
    "        if (num % i == 0):\n",
    "            flag = 1\n",
    "            break\n",
    "    if flag == 1:\n",
    "        print(num, \"is not a prime number\")\n",
    "    else:\n",
    "        print(num, \"is a prime number\")\n",
    "else:\n",
    "    print(\"Entered number is<=1, execute again...\")"
   ]
  },
  {
   "cell_type": "code",
   "execution_count": null,
   "id": "3c795486",
   "metadata": {},
   "outputs": [],
   "source": []
  }
 ],
 "metadata": {
  "kernelspec": {
   "display_name": "Python 3 (ipykernel)",
   "language": "python",
   "name": "python3"
  },
  "language_info": {
   "codemirror_mode": {
    "name": "ipython",
    "version": 3
   },
   "file_extension": ".py",
   "mimetype": "text/x-python",
   "name": "python",
   "nbconvert_exporter": "python",
   "pygments_lexer": "ipython3",
   "version": "3.9.7"
  }
 },
 "nbformat": 4,
 "nbformat_minor": 5
}
