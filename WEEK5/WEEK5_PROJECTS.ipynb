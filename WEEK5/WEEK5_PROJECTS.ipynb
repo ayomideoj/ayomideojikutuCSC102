{
 "cells": [
  {
   "cell_type": "markdown",
   "id": "16b828aa",
   "metadata": {},
   "source": [
    "# PROJECT 1\n",
    "\n",
    "## Pseudocode For Project 1\n",
    "\n",
    "### AVOIDS\n",
    "### INPUT  input word and letters\n",
    "### IF letters or words inputed are not forbidden  \n",
    "### RETURN \"TRUE\"\n",
    "### END\n"
   ]
  },
  {
   "cell_type": "code",
   "execution_count": 5,
   "id": "369946dc",
   "metadata": {},
   "outputs": [
    {
     "name": "stdout",
     "output_type": "stream",
     "text": [
      "Input forbidden letters:rtre\n",
      "Input a sentence to be inspected: oj is a GOAT\n"
     ]
    },
    {
     "ename": "ValueError",
     "evalue": "empty separator",
     "output_type": "error",
     "traceback": [
      "\u001b[1;31m---------------------------------------------------------------------------\u001b[0m",
      "\u001b[1;31mValueError\u001b[0m                                Traceback (most recent call last)",
      "\u001b[1;32mC:\\Users\\AYOMID~1\\AppData\\Local\\Temp/ipykernel_12856/2112952407.py\u001b[0m in \u001b[0;36m<module>\u001b[1;34m\u001b[0m\n\u001b[0;32m     19\u001b[0m         \u001b[0mprint\u001b[0m\u001b[1;33m(\u001b[0m\u001b[0mli\u001b[0m\u001b[1;33m,\u001b[0m\u001b[1;34m\"use forbidden letters\"\u001b[0m\u001b[1;33m)\u001b[0m\u001b[1;33m\u001b[0m\u001b[1;33m\u001b[0m\u001b[0m\n\u001b[0;32m     20\u001b[0m \u001b[1;33m\u001b[0m\u001b[0m\n\u001b[1;32m---> 21\u001b[1;33m \u001b[0mavoids\u001b[0m\u001b[1;33m(\u001b[0m\u001b[1;33m)\u001b[0m\u001b[1;33m\u001b[0m\u001b[1;33m\u001b[0m\u001b[0m\n\u001b[0m\u001b[0;32m     22\u001b[0m \u001b[1;33m\u001b[0m\u001b[0m\n",
      "\u001b[1;32mC:\\Users\\AYOMID~1\\AppData\\Local\\Temp/ipykernel_12856/2112952407.py\u001b[0m in \u001b[0;36mavoids\u001b[1;34m()\u001b[0m\n\u001b[0;32m      1\u001b[0m \u001b[1;32mdef\u001b[0m \u001b[0mavoids\u001b[0m\u001b[1;33m(\u001b[0m\u001b[1;33m)\u001b[0m\u001b[1;33m:\u001b[0m\u001b[1;33m\u001b[0m\u001b[1;33m\u001b[0m\u001b[0m\n\u001b[0;32m      2\u001b[0m     \u001b[0mforbidden\u001b[0m \u001b[1;33m=\u001b[0m \u001b[0mlist\u001b[0m\u001b[1;33m(\u001b[0m\u001b[0mstr\u001b[0m\u001b[1;33m(\u001b[0m\u001b[0minput\u001b[0m\u001b[1;33m(\u001b[0m\u001b[1;34m\"Input forbidden letters:\"\u001b[0m\u001b[1;33m)\u001b[0m\u001b[1;33m)\u001b[0m\u001b[1;33m)\u001b[0m\u001b[1;33m\u001b[0m\u001b[1;33m\u001b[0m\u001b[0m\n\u001b[1;32m----> 3\u001b[1;33m     \u001b[0msentence\u001b[0m \u001b[1;33m=\u001b[0m \u001b[0mstr\u001b[0m\u001b[1;33m(\u001b[0m\u001b[0minput\u001b[0m\u001b[1;33m(\u001b[0m\u001b[1;34m\"Input a sentence to be inspected:\"\u001b[0m\u001b[1;33m)\u001b[0m\u001b[1;33m)\u001b[0m\u001b[1;33m.\u001b[0m\u001b[0msplit\u001b[0m\u001b[1;33m(\u001b[0m\u001b[1;34m\"\"\u001b[0m\u001b[1;33m)\u001b[0m\u001b[1;33m\u001b[0m\u001b[1;33m\u001b[0m\u001b[0m\n\u001b[0m\u001b[0;32m      4\u001b[0m     \u001b[0mli\u001b[0m \u001b[1;33m=\u001b[0m\u001b[1;33m[\u001b[0m\u001b[1;33m]\u001b[0m\u001b[1;33m\u001b[0m\u001b[1;33m\u001b[0m\u001b[0m\n\u001b[0;32m      5\u001b[0m     \u001b[0mno\u001b[0m \u001b[1;33m=\u001b[0m \u001b[1;36m0\u001b[0m\u001b[1;33m\u001b[0m\u001b[1;33m\u001b[0m\u001b[0m\n",
      "\u001b[1;31mValueError\u001b[0m: empty separator"
     ]
    }
   ],
   "source": [
    "def avoids():\n",
    "    forbidden = list(str(input(\"Input forbidden letters:\")))\n",
    "    sentence = str(input(\"Input a sentence to be inspected:\")).split(\"\")\n",
    "    li =[]\n",
    "    no = 0\n",
    "    for i in sentence:\n",
    "        boo = True\n",
    "        for j in forbidden:\n",
    "            if j in i:\n",
    "                boo = False\n",
    "        if boo == False:\n",
    "            li.append(i)\n",
    "        else:\n",
    "            no +=1\n",
    "    if len(li) == 0:\n",
    "        print(\"no forbidden words present\")\n",
    "    else:\n",
    "        print(no,\"words do not use forbidden letters\")\n",
    "        print(li,\"use forbidden letters\")\n",
    "\n",
    "avoids()\n",
    "        "
   ]
  },
  {
   "cell_type": "code",
   "execution_count": null,
   "id": "d7996a07",
   "metadata": {},
   "outputs": [],
   "source": []
  },
  {
   "cell_type": "markdown",
   "id": "36c63543",
   "metadata": {},
   "source": [
    "# PROJECT 2\n",
    "## Pseudocode for Project 2\n",
    "### USES ALL\n",
    "### INPUT word and strings of letters\n",
    "### IF word uses all required letters at least once\n",
    "### RETURN \"TRUE\"\n",
    "### ELSE \"FALSE\"\n",
    "### END"
   ]
  },
  {
   "cell_type": "code",
   "execution_count": 2,
   "id": "945ecb0e",
   "metadata": {},
   "outputs": [
    {
     "name": "stdout",
     "output_type": "stream",
     "text": [
      "False\n",
      "the required letters ['u'] not found elegaont\n"
     ]
    }
   ],
   "source": [
    "def uses_all (word, req):\n",
    "    newReq = list(req)\n",
    "    li = []\n",
    "    for i in newReq:\n",
    "        if i in word:\n",
    "            continue\n",
    "        else:\n",
    "            li.append(i)\n",
    "    if len(li) > 0:\n",
    "        print(False)\n",
    "    else:\n",
    "        print(True)\n",
    "    print(\"the required letters\",li,\"not found\",word)\n",
    "    \n",
    "uses_all(\"elegaont\",\"eguon\")"
   ]
  },
  {
   "cell_type": "code",
   "execution_count": null,
   "id": "7d374506",
   "metadata": {},
   "outputs": [],
   "source": []
  },
  {
   "cell_type": "markdown",
   "id": "b7c0bc95",
   "metadata": {},
   "source": [
    "# PROJECT 3\n",
    "## Pseudocode for Project 3\n",
    "### INPUT Jane = \"odd\"\n",
    "### INPUT Jack = \"even\"\n",
    "### IF Jack + Jane = odd number\n",
    "### PRINT \"Jane wins\"\n",
    "### ELIF Jack + Jane = even number\n",
    "### PRINT \"Jack wins\"\n",
    "### END"
   ]
  },
  {
   "cell_type": "code",
   "execution_count": null,
   "id": "35b7d248",
   "metadata": {},
   "outputs": [],
   "source": []
  },
  {
   "cell_type": "code",
   "execution_count": 1,
   "id": "d832cbd8",
   "metadata": {},
   "outputs": [
    {
     "name": "stdout",
     "output_type": "stream",
     "text": [
      "Player1, enter guess3\n",
      "Player2, enter guess4\n",
      "Player1, what number did you choose3\n",
      "Player2, what number did you choose4\n",
      "Nobody wins\n"
     ]
    }
   ],
   "source": [
    "import math\n",
    "a = str(input(\"Player1, enter guess\"))\n",
    "\n",
    "b = str(input(\"Player2, enter guess\"))\n",
    "\n",
    "num1 = int(input(\"Player1, what number did you choose\"))\n",
    "\n",
    "num2 = int(input(\"Player2, what number did you choose\"))\n",
    "total = num1 + num2\n",
    "if total % 2 == 0:\n",
    "    nature = \"even\"\n",
    "else:\n",
    "    nature = \"odds\"\n",
    "if a == nature and b == nature:\n",
    "    print(\"Both players win\")\n",
    "elif a == nature:\n",
    "    (\"Player1 wins, the answer is\", a)\n",
    "elif b == nature:\n",
    "    print(\"Player2 wins, the answer is\",b)\n",
    "else:\n",
    "    print(\"Nobody wins\")\n",
    "\n",
    "\n",
    "            "
   ]
  },
  {
   "cell_type": "markdown",
   "id": "b86071a2",
   "metadata": {},
   "source": [
    "# PROJECT 4\n",
    "## Pseudocode for Project 4\n",
    "### Velocity, V = D/T\n",
    "### Distance, D = 50\n",
    "### Time, T = 2\n",
    "### CALCULATE V\n",
    "### END"
   ]
  },
  {
   "cell_type": "code",
   "execution_count": 6,
   "id": "77c50e65",
   "metadata": {},
   "outputs": [
    {
     "name": "stdout",
     "output_type": "stream",
     "text": [
      "Enter value of distance400\n",
      "Enter value of time2\n",
      "the care is moving at 200.0 miles per hour\n"
     ]
    }
   ],
   "source": [
    "d = int(input(\"Enter value of distance\"))\n",
    "t = int(input(\"Enter value of time\"))\n",
    "\n",
    "v= d/t\n",
    "print(\"the care is moving at\",v,\"miles per hour\")"
   ]
  },
  {
   "cell_type": "code",
   "execution_count": null,
   "id": "271ba459",
   "metadata": {},
   "outputs": [],
   "source": []
  }
 ],
 "metadata": {
  "kernelspec": {
   "display_name": "Python 3 (ipykernel)",
   "language": "python",
   "name": "python3"
  },
  "language_info": {
   "codemirror_mode": {
    "name": "ipython",
    "version": 3
   },
   "file_extension": ".py",
   "mimetype": "text/x-python",
   "name": "python",
   "nbconvert_exporter": "python",
   "pygments_lexer": "ipython3",
   "version": "3.9.7"
  }
 },
 "nbformat": 4,
 "nbformat_minor": 5
}
